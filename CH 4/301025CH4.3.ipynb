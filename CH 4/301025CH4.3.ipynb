{
 "cells": [
  {
   "cell_type": "markdown",
   "metadata": {},
   "source": [
    "### Comprehending tuple from generator"
   ]
  },
  {
   "cell_type": "code",
   "execution_count": 1,
   "metadata": {},
   "outputs": [
    {
     "name": "stdout",
     "output_type": "stream",
     "text": [
      "<generator object <genexpr> at 0x000001C555DC0740>\n"
     ]
    }
   ],
   "source": [
    "t = (1,2,3,4,5)\n",
    "x = (i**2 for i in t) \n",
    "print(x)"
   ]
  },
  {
   "cell_type": "code",
   "execution_count": 2,
   "metadata": {},
   "outputs": [
    {
     "name": "stdout",
     "output_type": "stream",
     "text": [
      "(1, 4, 9, 16, 25)\n"
     ]
    }
   ],
   "source": [
    "t = (1,2,3,4,5)\n",
    "x = tuple(i**2 for i in t) \n",
    "print(x)"
   ]
  },
  {
   "cell_type": "markdown",
   "metadata": {},
   "source": [
    "### Creating tuple from zipping two tuples and summing elements"
   ]
  },
  {
   "cell_type": "code",
   "execution_count": 4,
   "metadata": {},
   "outputs": [
    {
     "name": "stdout",
     "output_type": "stream",
     "text": [
      "(5, 7, 9)\n"
     ]
    }
   ],
   "source": [
    "t1 = (1,2,3)\n",
    "t2 = (4,5,6)\n",
    "new = tuple(x + y for x,y in zip(t1,t2))\n",
    "print(new)"
   ]
  },
  {
   "cell_type": "markdown",
   "metadata": {},
   "source": [
    "### WAP for the following task:\n",
    "```\n",
    "input - 1+2+1+1+1+3+3+4+5+2\n",
    "ouput - 1+1+1+1+2+2+3+3+4+5\n",
    "```"
   ]
  },
  {
   "cell_type": "code",
   "execution_count": 9,
   "metadata": {},
   "outputs": [
    {
     "name": "stdout",
     "output_type": "stream",
     "text": [
      "input - 1+2+1+1+1+3+3+4+5+2\n",
      "1+1+1+1+2+2+3+3+4+5\n"
     ]
    }
   ],
   "source": [
    "x =  input(\"input - \")\n",
    "text = sorted(x.split(\"+\"))\n",
    "print(\"+\".join(text))"
   ]
  },
  {
   "cell_type": "markdown",
   "metadata": {},
   "source": [
    "### WAP to validate a password:\n",
    "- it should atleast contain 8 elements including a to z\n",
    "- it should atleast contain 1 uppercase letter\n",
    "- it should atleast contain 1 digit\n",
    "- it should atleast contain 1 special character from @, _, and \\$\n",
    "-If above condtions are not satisfied it should return not valid"
   ]
  },
  {
   "cell_type": "code",
   "execution_count": 13,
   "metadata": {},
   "outputs": [
    {
     "name": "stdout",
     "output_type": "stream",
     "text": [
      "Enter password : kasfgdda\n",
      "Invalid\n",
      "Enter password : asjdfgakd\n",
      "Invalid\n",
      "Enter password : Kavyyyyy\n",
      "Invalid\n",
      "Enter password : KAvyyy99\n",
      "Invalid\n",
      "Enter password : Kavy99@ka\n",
      "PassValid\n"
     ]
    }
   ],
   "source": [
    "flag = True\n",
    "while flag :\n",
    "    uc = 0\n",
    "    sc = 0\n",
    "    dc = 0\n",
    "    lc = 0\n",
    "    a = input(\"Enter password : \")\n",
    "    if len(a)>=8:\n",
    "        for i in a:\n",
    "            if i.islower():\n",
    "                lc += 1\n",
    "            if i.isupper():\n",
    "                uc += 1\n",
    "            elif i.isdigit():\n",
    "                dc += 1\n",
    "            elif i==\"@\" or i==\"_\" or i==\"$\":\n",
    "                sc += 1\n",
    "        if uc<1 or sc<1 or dc<1 or lc+uc+dc+sc!=len(a):\n",
    "            print(\"Invalid\")\n",
    "        else:\n",
    "            print(\"PassValid\")\n",
    "            flag = False\n",
    "    else :\n",
    "        print(\"Invalid\")"
   ]
  },
  {
   "cell_type": "markdown",
   "metadata": {},
   "source": [
    "### WAP to encrpyt given string\n",
    "```\n",
    "input = LJIET ENG\n",
    "enter key = 3\n",
    "\n",
    "output - OMLHW HQJ\n",
    "```\n"
   ]
  },
  {
   "cell_type": "code",
   "execution_count": 14,
   "metadata": {},
   "outputs": [
    {
     "name": "stdout",
     "output_type": "stream",
     "text": [
      "Enter a string : LJIET ENG\n",
      "OMLHW HQJ\n"
     ]
    }
   ],
   "source": [
    "a = input(\"Enter a string : \")\n",
    "b = \"\"\n",
    "for i in a:\n",
    "    if i == \" \" :\n",
    "        b += i\n",
    "    else :\n",
    "        x = chr(ord(i) + 3)\n",
    "        b += x\n",
    "print(b)"
   ]
  },
  {
   "cell_type": "code",
   "execution_count": 18,
   "metadata": {},
   "outputs": [
    {
     "data": {
      "text/plain": [
       "'ABC'"
      ]
     },
     "execution_count": 18,
     "metadata": {},
     "output_type": "execute_result"
    }
   ],
   "source": [
    "def encrpyt(msg, key):\n",
    "    message = msg.upper()\n",
    "    alpha = \"ABCDEFGHIJKLMNOPQRSTUVWXYZ\"\n",
    "    result = \"\"\n",
    "    for letter in message:\n",
    "        if letter in alpha:\n",
    "            letterindex = (alpha.find(letter) + key) % len(alpha)\n",
    "            result += alpha[letterindex]\n",
    "        else:\n",
    "            result += letter\n",
    "    return result\n",
    "\n",
    "encrpyt(\"xyz\",3)"
   ]
  },
  {
   "cell_type": "markdown",
   "metadata": {},
   "source": [
    "### WAP to abbreviate the name -\n",
    "``` \n",
    "input - World Health Organisation\n",
    "output - WHO\n",
    "```"
   ]
  },
  {
   "cell_type": "code",
   "execution_count": 21,
   "metadata": {},
   "outputs": [
    {
     "name": "stdout",
     "output_type": "stream",
     "text": [
      "Enter name : World Health Organisation\n",
      "WHO\n"
     ]
    }
   ],
   "source": [
    "x = input(\"Enter name : \")\n",
    "a = \"\"\n",
    "text = x.split()\n",
    "for i in text:\n",
    "    a += i[0].upper()\n",
    "print(a)"
   ]
  },
  {
   "cell_type": "code",
   "execution_count": 23,
   "metadata": {},
   "outputs": [
    {
     "name": "stdout",
     "output_type": "stream",
     "text": [
      "Enter name : World Health Organisation\n",
      "WHO\n"
     ]
    }
   ],
   "source": [
    "x = input(\"Enter name : \")\n",
    "m = [word[0] for word in x.split()]\n",
    "print(\"\".join(m))"
   ]
  },
  {
   "cell_type": "markdown",
   "metadata": {},
   "source": [
    "### WAP to check if the given two strings are balanced.The strings s1 and s2 are balanced if the elements of s1 are in s2\n",
    "(in any order)\n",
    "\n",
    "```\n",
    "ip:\n",
    "    s1=lk\n",
    "    s2=ljku\n",
    "op:\n",
    "    balaned\n",
    "```    "
   ]
  },
  {
   "cell_type": "code",
   "execution_count": 24,
   "metadata": {},
   "outputs": [
    {
     "name": "stdout",
     "output_type": "stream",
     "text": [
      "Enter the first string:ljs\n",
      "Enter second string:ljsku\n",
      "balanced\n"
     ]
    }
   ],
   "source": [
    "s1=input(\"Enter the first string:\")\n",
    "s2=input(\"Enter second string:\")\n",
    "b=True\n",
    "for el in s1:\n",
    "    if el not in s2:\n",
    "        b=False\n",
    "if b==True:\n",
    "    print(\"balanced\")\n",
    "else:\n",
    "    print(\"Not balanced\")"
   ]
  },
  {
   "cell_type": "markdown",
   "metadata": {},
   "source": [
    "### For a given email address extract the username-\n",
    "```\n",
    "ip-shi.shi@gmail.com\n",
    "op-shi.shi\n",
    "```"
   ]
  },
  {
   "cell_type": "code",
   "execution_count": null,
   "metadata": {},
   "outputs": [],
   "source": [
    "ip=\"shi.shi@gmail.com\"\n",
    "a=ip.split(\"@\")\n",
    "print(a[0])"
   ]
  },
  {
   "cell_type": "markdown",
   "metadata": {},
   "source": [
    "### For a given string perform following task-\n",
    "```\n",
    "ip-aaabccddsa\n",
    "op-a3bc2d2sa\n",
    "```"
   ]
  },
  {
   "cell_type": "code",
   "execution_count": 25,
   "metadata": {},
   "outputs": [
    {
     "name": "stdout",
     "output_type": "stream",
     "text": [
      "a4bc2d2sa\n"
     ]
    }
   ],
   "source": [
    "def compress_string(s):\n",
    "    if not s:\n",
    "        return \"\"\n",
    "    \n",
    "    result = []\n",
    "    current = s[0]\n",
    "    count = 1\n",
    "    \n",
    "    for i in range(1, len(s)):\n",
    "        if s[i] == current:\n",
    "            count += 1\n",
    "        else:\n",
    "            if count > 1:\n",
    "                result.append(current + str(count))\n",
    "            else:\n",
    "                result.append(current)\n",
    "            current = s[i]\n",
    "            count = 1\n",
    "    \n",
    "    if count > 1:\n",
    "        result.append(current + str(count))\n",
    "    else:\n",
    "        result.append(current)\n",
    "    \n",
    "    return ''.join(result)\n",
    "\n",
    "input_string = \"aaaabccddsa\"\n",
    "output = compress_string(input_string)\n",
    "print(output)\n",
    "\n",
    "# Similar to mcq 282"
   ]
  },
  {
   "cell_type": "code",
   "execution_count": null,
   "metadata": {},
   "outputs": [],
   "source": [
    "#input:aaabccddsa output:a3bc2d2sa\n",
    "\n",
    "text = \"aaabccddsa\"\n",
    "sample=\"\"\n",
    "count=1\n",
    "for i in range(1,len(text)):\n",
    "    current=text[i]\n",
    "    prev=text[i-1]\n",
    "\n",
    "    if current == prev:\n",
    "        count+=1\n",
    "    else:\n",
    "        if count ==1:\n",
    "            sample+=text[i-1]\n",
    "        else:\n",
    "            sample+=text[i-1]+str(count)\n",
    "            count=1\n",
    "    \n",
    "    \n",
    "sample+=text[len(text)-1]\n",
    "            \n",
    "    \n",
    "print(sample)\n",
    "    "
   ]
  }
 ],
 "metadata": {
  "kernelspec": {
   "display_name": "Python 3",
   "language": "python",
   "name": "python3"
  },
  "language_info": {
   "codemirror_mode": {
    "name": "ipython",
    "version": 3
   },
   "file_extension": ".py",
   "mimetype": "text/x-python",
   "name": "python",
   "nbconvert_exporter": "python",
   "pygments_lexer": "ipython3",
   "version": "3.8.5"
  }
 },
 "nbformat": 4,
 "nbformat_minor": 4
}
